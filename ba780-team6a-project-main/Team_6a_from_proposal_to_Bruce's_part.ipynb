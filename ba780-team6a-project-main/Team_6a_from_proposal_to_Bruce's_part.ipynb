{
  "nbformat": 4,
  "nbformat_minor": 0,
  "metadata": {
    "environment": {
      "name": "common-cpu.m56",
      "type": "gcloud",
      "uri": "gcr.io/deeplearning-platform-release/base-cpu:m56"
    },
    "kernelspec": {
      "display_name": "Python 3",
      "language": "python",
      "name": "python3"
    },
    "language_info": {
      "codemirror_mode": {
        "name": "ipython",
        "version": 3
      },
      "file_extension": ".py",
      "mimetype": "text/x-python",
      "name": "python",
      "nbconvert_exporter": "python",
      "pygments_lexer": "ipython3",
      "version": "3.8.5"
    },
    "colab": {
      "name": "Team 6a from proposal to Bruce's part.ipynb",
      "provenance": [],
      "collapsed_sections": []
    }
  },
  "cells": [
    {
      "cell_type": "markdown",
      "metadata": {
        "id": "PbhJ7uRPPZ6M"
      },
      "source": [
        "# Team 6a - Phase 2 - Project Proposal"
      ]
    },
    {
      "cell_type": "markdown",
      "metadata": {
        "id": "4Djt0wv-PZ6M"
      },
      "source": [
        "## Title : \n",
        "\n",
        "US and Japan YouTube Trending Videos"
      ]
    },
    {
      "cell_type": "markdown",
      "metadata": {
        "id": "_PLB7P6qPZ6M"
      },
      "source": [
        "## Problem: \n",
        "    \n",
        "Our goal is to analyze US and Japan YouTube trending videos and identify preferences in video categories, channels, publishing and trending time and viewer interactions. We will analyze the characteristics including categories, view, likes count and trending time (season/weekday/month), in trending videos to identify and compare changes in preference over time. Moreover, we are interested to know if the country culture has an influence on the YouTube trending videos characteristics."
      ]
    },
    {
      "cell_type": "markdown",
      "metadata": {
        "id": "RRXUvYlYPZ6M"
      },
      "source": [
        "## Data source:\n",
        "\n",
        "Initially, we had four different tables with the videos information and two tables that contain the video categories information. \n",
        "\n",
        "\n",
        "`ba775-team-6a.youtube.US_youtube_trending_data`,\n",
        "`ba775-team-6a.youtube.US_youtube_trending_data_past`,\n",
        "`ba775-team-6a.youtube.JP_youtube_trending_data`,\n",
        "`ba775-team-6a.youtube.JP_youtube_trending_data_past`,\n",
        "`ba775-team-6a.youtube.US_video_categories`,\n",
        "`ba775-team-6a.youtube.JP_video_categories`\n",
        "\n",
        "We decided to put all the information in one table which is the one that we will use in our analysis:\n",
        "\n",
        "`ba775-team-6a.youtube.Youtube_trending_videos`\n",
        "\n",
        "Also, we are using YouTube API to gather more video characteristics such as channel statistics, comments and playlists:\n",
        "\n",
        "https://developers.google.com/youtube/v3/docs"
      ]
    },
    {
      "cell_type": "markdown",
      "metadata": {
        "id": "SSLSSjqNPZ6M"
      },
      "source": [
        "## Reference to datasource:\n",
        "\n",
        "This datasources were collected using the Youtube API and it presents a list of the top trending videos on the platform. To determine the year's top-trending videos, Youtube uses a combination of factors such as number of views, shares, comments and likes. We accessed the datasources via Kaggle data notebooks  \"Trending Yotube Video Statistics\" and \"YouTube Trending Video Dataset\".\n",
        "\n",
        "YouTube API's documentation:\n",
        "https://developers.google.com/youtube/v3/docs\n",
        "\n",
        "Links: \n",
        "\n",
        "https://www.kaggle.com/datasnaek/youtube-new\n",
        "\n",
        "https://www.kaggle.com/rsrishav/youtube-trending-video-dataset"
      ]
    },
    {
      "cell_type": "markdown",
      "metadata": {
        "id": "CwhUzHIGPicP"
      },
      "source": [
        "## Outline\n",
        "1. Analysis of Youtube Categories\n",
        "\n",
        "2. Analysis of Youtube Channels\n",
        "\n",
        "3. Correlation between Categories and Categories\n",
        "\n",
        "4. Analysis of Youtube Videos\n",
        "\n",
        "5. Correlation between Catogories and Top Videos\n",
        "\n",
        "6. User Interaction and Behavior"
      ]
    },
    {
      "cell_type": "markdown",
      "metadata": {
        "id": "kkDNmQ4-Q6ks"
      },
      "source": [
        "##1. Analysis of Youtube Categories\n",
        "\n",
        "> Youtube videos are already groupped into several categories, such as musics, entertainment, etc. In this part, we will use the Youtube data in 2020, pull out the top 10 most popular categores, and analyze basic statistics, including views, videos, likes, dislikes, and trending time. We will also go deeper into the similarities and differences of watching preference from people in both countries, Japan and the US.\n",
        "\n"
      ]
    },
    {
      "cell_type": "markdown",
      "metadata": {
        "id": "kM0r8sO2UEIS"
      },
      "source": [
        "### Preparation for Analysis\n",
        "\n",
        "> Before analyzing categories, let's load the csv file and transform the raw data into a more readable one!"
      ]
    },
    {
      "cell_type": "code",
      "metadata": {
        "colab": {
          "base_uri": "https://localhost:8080/"
        },
        "id": "kRZ0GVbLj5W_",
        "outputId": "1ed9f167-2b64-406c-97b3-12d2099dbaa6"
      },
      "source": [
        "import pandas as pd\n",
        "import seaborn as sns\n",
        "import matplotlib.pyplot as plt\n",
        "import warnings\n",
        "warnings.filterwarnings(\"ignore\", category=RuntimeWarning) \n",
        "data1=pd.read_csv('YouTube_trending_videos.csv')\n",
        "data2=data1[['trending_date','Country', 'Category_name', 'title', 'view_count', 'likes', 'dislikes']]\n",
        "data2['year']= pd.DatetimeIndex(data2['trending_date']).year\n",
        "pre_data=data2.loc[(data2[\"year\"] == 2020)]"
      ],
      "execution_count": 158,
      "outputs": [
        {
          "output_type": "stream",
          "text": [
            "/usr/local/lib/python3.6/dist-packages/ipykernel_launcher.py:8: SettingWithCopyWarning: \n",
            "A value is trying to be set on a copy of a slice from a DataFrame.\n",
            "Try using .loc[row_indexer,col_indexer] = value instead\n",
            "\n",
            "See the caveats in the documentation: https://pandas.pydata.org/pandas-docs/stable/user_guide/indexing.html#returning-a-view-versus-a-copy\n",
            "  \n"
          ],
          "name": "stderr"
        }
      ]
    },
    {
      "cell_type": "markdown",
      "metadata": {
        "id": "-JLS4s91V_9S"
      },
      "source": [
        "> Now, the new dataset only includes records only from 2020.\n",
        "\n"
      ]
    },
    {
      "cell_type": "code",
      "metadata": {
        "colab": {
          "base_uri": "https://localhost:8080/",
          "height": 195
        },
        "id": "9S_hRngNVL5f",
        "outputId": "68c3275a-0119-41e7-ca36-9fafe0a2dc3c"
      },
      "source": [
        "pre_data.head()"
      ],
      "execution_count": 99,
      "outputs": [
        {
          "output_type": "execute_result",
          "data": {
            "text/html": [
              "<div>\n",
              "<style scoped>\n",
              "    .dataframe tbody tr th:only-of-type {\n",
              "        vertical-align: middle;\n",
              "    }\n",
              "\n",
              "    .dataframe tbody tr th {\n",
              "        vertical-align: top;\n",
              "    }\n",
              "\n",
              "    .dataframe thead th {\n",
              "        text-align: right;\n",
              "    }\n",
              "</style>\n",
              "<table border=\"1\" class=\"dataframe\">\n",
              "  <thead>\n",
              "    <tr style=\"text-align: right;\">\n",
              "      <th></th>\n",
              "      <th>trending_date</th>\n",
              "      <th>Country</th>\n",
              "      <th>Category_name</th>\n",
              "      <th>title</th>\n",
              "      <th>view_count</th>\n",
              "      <th>likes</th>\n",
              "      <th>dislikes</th>\n",
              "      <th>year</th>\n",
              "    </tr>\n",
              "  </thead>\n",
              "  <tbody>\n",
              "    <tr>\n",
              "      <th>10</th>\n",
              "      <td>2020-08-30 00:00:00 UTC</td>\n",
              "      <td>Japan</td>\n",
              "      <td>Music</td>\n",
              "      <td>Tak Matsumoto “Bluesman” YouTube Live</td>\n",
              "      <td>288320</td>\n",
              "      <td>12343</td>\n",
              "      <td>60</td>\n",
              "      <td>2020</td>\n",
              "    </tr>\n",
              "    <tr>\n",
              "      <th>11</th>\n",
              "      <td>2020-09-02 00:00:00 UTC</td>\n",
              "      <td>Japan</td>\n",
              "      <td>Music</td>\n",
              "      <td>Tak Matsumoto “Bluesman” YouTube Live</td>\n",
              "      <td>363584</td>\n",
              "      <td>13159</td>\n",
              "      <td>72</td>\n",
              "      <td>2020</td>\n",
              "    </tr>\n",
              "    <tr>\n",
              "      <th>12</th>\n",
              "      <td>2020-08-31 00:00:00 UTC</td>\n",
              "      <td>Japan</td>\n",
              "      <td>Music</td>\n",
              "      <td>Tak Matsumoto “Bluesman” YouTube Live</td>\n",
              "      <td>324387</td>\n",
              "      <td>12777</td>\n",
              "      <td>64</td>\n",
              "      <td>2020</td>\n",
              "    </tr>\n",
              "    <tr>\n",
              "      <th>13</th>\n",
              "      <td>2020-09-03 00:00:00 UTC</td>\n",
              "      <td>Japan</td>\n",
              "      <td>Music</td>\n",
              "      <td>Tak Matsumoto “Bluesman” YouTube Live</td>\n",
              "      <td>375254</td>\n",
              "      <td>13249</td>\n",
              "      <td>75</td>\n",
              "      <td>2020</td>\n",
              "    </tr>\n",
              "    <tr>\n",
              "      <th>14</th>\n",
              "      <td>2020-09-04 00:00:00 UTC</td>\n",
              "      <td>Japan</td>\n",
              "      <td>Music</td>\n",
              "      <td>Tak Matsumoto “Bluesman” YouTube Live</td>\n",
              "      <td>382518</td>\n",
              "      <td>13304</td>\n",
              "      <td>79</td>\n",
              "      <td>2020</td>\n",
              "    </tr>\n",
              "  </tbody>\n",
              "</table>\n",
              "</div>"
            ],
            "text/plain": [
              "              trending_date Country Category_name  ...  likes  dislikes  year\n",
              "10  2020-08-30 00:00:00 UTC   Japan         Music  ...  12343        60  2020\n",
              "11  2020-09-02 00:00:00 UTC   Japan         Music  ...  13159        72  2020\n",
              "12  2020-08-31 00:00:00 UTC   Japan         Music  ...  12777        64  2020\n",
              "13  2020-09-03 00:00:00 UTC   Japan         Music  ...  13249        75  2020\n",
              "14  2020-09-04 00:00:00 UTC   Japan         Music  ...  13304        79  2020\n",
              "\n",
              "[5 rows x 8 columns]"
            ]
          },
          "metadata": {
            "tags": []
          },
          "execution_count": 99
        }
      ]
    },
    {
      "cell_type": "markdown",
      "metadata": {
        "id": "cxiJz9tsTADD"
      },
      "source": [
        "### Top 10 categories in 2020 for the US and Japan\n",
        "\n",
        "> Categories reflects watching preference. By extracting top 10 categories, we could find which types of videos viewers prefer to watch."
      ]
    },
    {
      "cell_type": "markdown",
      "metadata": {
        "id": "xOjjtMw1W6VH"
      },
      "source": [
        "> To create an ideal data for visualization, create a dataset of top 10 categories from each country.\n"
      ]
    },
    {
      "cell_type": "markdown",
      "metadata": {
        "id": "GOJlTBbIt1tG"
      },
      "source": [
        "Top 10 in Japan:"
      ]
    },
    {
      "cell_type": "code",
      "metadata": {
        "colab": {
          "base_uri": "https://localhost:8080/",
          "height": 343
        },
        "id": "SF6FUGhbcbzb",
        "outputId": "4140c9cd-06d5-4d97-e32c-128d298da337"
      },
      "source": [
        "data6=pre_data.loc[(data2[\"Country\"] == \"Japan\")]\n",
        "top_jp_2020=data6[['Category_name', 'view_count', 'likes', 'dislikes']].groupby('Category_name').sum().sort_values(by='view_count', ascending=False)[0:10].reset_index(level='Category_name')\n",
        "top_jp_2020['Country']='Japan'\n",
        "top_jp_2020"
      ],
      "execution_count": 100,
      "outputs": [
        {
          "output_type": "execute_result",
          "data": {
            "text/html": [
              "<div>\n",
              "<style scoped>\n",
              "    .dataframe tbody tr th:only-of-type {\n",
              "        vertical-align: middle;\n",
              "    }\n",
              "\n",
              "    .dataframe tbody tr th {\n",
              "        vertical-align: top;\n",
              "    }\n",
              "\n",
              "    .dataframe thead th {\n",
              "        text-align: right;\n",
              "    }\n",
              "</style>\n",
              "<table border=\"1\" class=\"dataframe\">\n",
              "  <thead>\n",
              "    <tr style=\"text-align: right;\">\n",
              "      <th></th>\n",
              "      <th>Category_name</th>\n",
              "      <th>view_count</th>\n",
              "      <th>likes</th>\n",
              "      <th>dislikes</th>\n",
              "      <th>Country</th>\n",
              "    </tr>\n",
              "  </thead>\n",
              "  <tbody>\n",
              "    <tr>\n",
              "      <th>0</th>\n",
              "      <td>Music</td>\n",
              "      <td>10390685184</td>\n",
              "      <td>830284812</td>\n",
              "      <td>22911272</td>\n",
              "      <td>Japan</td>\n",
              "    </tr>\n",
              "    <tr>\n",
              "      <th>1</th>\n",
              "      <td>Entertainment</td>\n",
              "      <td>4011742465</td>\n",
              "      <td>137782185</td>\n",
              "      <td>5155051</td>\n",
              "      <td>Japan</td>\n",
              "    </tr>\n",
              "    <tr>\n",
              "      <th>2</th>\n",
              "      <td>People &amp; Blogs</td>\n",
              "      <td>1098249709</td>\n",
              "      <td>33532873</td>\n",
              "      <td>1072044</td>\n",
              "      <td>Japan</td>\n",
              "    </tr>\n",
              "    <tr>\n",
              "      <th>3</th>\n",
              "      <td>Comedy</td>\n",
              "      <td>1072481774</td>\n",
              "      <td>62957859</td>\n",
              "      <td>821108</td>\n",
              "      <td>Japan</td>\n",
              "    </tr>\n",
              "    <tr>\n",
              "      <th>4</th>\n",
              "      <td>Gaming</td>\n",
              "      <td>864214032</td>\n",
              "      <td>24601826</td>\n",
              "      <td>695949</td>\n",
              "      <td>Japan</td>\n",
              "    </tr>\n",
              "    <tr>\n",
              "      <th>5</th>\n",
              "      <td>Science &amp; Technology</td>\n",
              "      <td>551903730</td>\n",
              "      <td>14461024</td>\n",
              "      <td>941125</td>\n",
              "      <td>Japan</td>\n",
              "    </tr>\n",
              "    <tr>\n",
              "      <th>6</th>\n",
              "      <td>Film &amp; Animation</td>\n",
              "      <td>500705920</td>\n",
              "      <td>10154969</td>\n",
              "      <td>169475</td>\n",
              "      <td>Japan</td>\n",
              "    </tr>\n",
              "    <tr>\n",
              "      <th>7</th>\n",
              "      <td>Sports</td>\n",
              "      <td>431221051</td>\n",
              "      <td>5367931</td>\n",
              "      <td>217964</td>\n",
              "      <td>Japan</td>\n",
              "    </tr>\n",
              "    <tr>\n",
              "      <th>8</th>\n",
              "      <td>Howto &amp; Style</td>\n",
              "      <td>356542189</td>\n",
              "      <td>9010844</td>\n",
              "      <td>364865</td>\n",
              "      <td>Japan</td>\n",
              "    </tr>\n",
              "    <tr>\n",
              "      <th>9</th>\n",
              "      <td>Autos &amp; Vehicles</td>\n",
              "      <td>225314581</td>\n",
              "      <td>13239850</td>\n",
              "      <td>154176</td>\n",
              "      <td>Japan</td>\n",
              "    </tr>\n",
              "  </tbody>\n",
              "</table>\n",
              "</div>"
            ],
            "text/plain": [
              "          Category_name   view_count      likes  dislikes Country\n",
              "0                 Music  10390685184  830284812  22911272   Japan\n",
              "1         Entertainment   4011742465  137782185   5155051   Japan\n",
              "2        People & Blogs   1098249709   33532873   1072044   Japan\n",
              "3                Comedy   1072481774   62957859    821108   Japan\n",
              "4                Gaming    864214032   24601826    695949   Japan\n",
              "5  Science & Technology    551903730   14461024    941125   Japan\n",
              "6      Film & Animation    500705920   10154969    169475   Japan\n",
              "7                Sports    431221051    5367931    217964   Japan\n",
              "8         Howto & Style    356542189    9010844    364865   Japan\n",
              "9      Autos & Vehicles    225314581   13239850    154176   Japan"
            ]
          },
          "metadata": {
            "tags": []
          },
          "execution_count": 100
        }
      ]
    },
    {
      "cell_type": "markdown",
      "metadata": {
        "id": "iahQBd4dt52i"
      },
      "source": [
        "Top 10 in the US:"
      ]
    },
    {
      "cell_type": "code",
      "metadata": {
        "colab": {
          "base_uri": "https://localhost:8080/",
          "height": 343
        },
        "id": "-PqPiY-fjbNv",
        "outputId": "7d04a50a-eed8-42da-d19e-8e64393923c5"
      },
      "source": [
        "data4=pre_data.loc[(data2[\"Country\"] == \"United States\")]\n",
        "top_us_2020=data4[['Category_name', 'view_count', 'likes', 'dislikes']].groupby('Category_name').sum().sort_values(by='view_count', ascending=False)[0:10].reset_index(level='Category_name')\n",
        "top_us_2020['Country']='United States'\n",
        "top_us_2020"
      ],
      "execution_count": 101,
      "outputs": [
        {
          "output_type": "execute_result",
          "data": {
            "text/html": [
              "<div>\n",
              "<style scoped>\n",
              "    .dataframe tbody tr th:only-of-type {\n",
              "        vertical-align: middle;\n",
              "    }\n",
              "\n",
              "    .dataframe tbody tr th {\n",
              "        vertical-align: top;\n",
              "    }\n",
              "\n",
              "    .dataframe thead th {\n",
              "        text-align: right;\n",
              "    }\n",
              "</style>\n",
              "<table border=\"1\" class=\"dataframe\">\n",
              "  <thead>\n",
              "    <tr style=\"text-align: right;\">\n",
              "      <th></th>\n",
              "      <th>Category_name</th>\n",
              "      <th>view_count</th>\n",
              "      <th>likes</th>\n",
              "      <th>dislikes</th>\n",
              "      <th>Country</th>\n",
              "    </tr>\n",
              "  </thead>\n",
              "  <tbody>\n",
              "    <tr>\n",
              "      <th>0</th>\n",
              "      <td>Music</td>\n",
              "      <td>15184206655</td>\n",
              "      <td>1108613505</td>\n",
              "      <td>31615188</td>\n",
              "      <td>United States</td>\n",
              "    </tr>\n",
              "    <tr>\n",
              "      <th>1</th>\n",
              "      <td>Entertainment</td>\n",
              "      <td>5997855145</td>\n",
              "      <td>384206651</td>\n",
              "      <td>7715464</td>\n",
              "      <td>United States</td>\n",
              "    </tr>\n",
              "    <tr>\n",
              "      <th>2</th>\n",
              "      <td>Gaming</td>\n",
              "      <td>3398117165</td>\n",
              "      <td>168307253</td>\n",
              "      <td>4638537</td>\n",
              "      <td>United States</td>\n",
              "    </tr>\n",
              "    <tr>\n",
              "      <th>3</th>\n",
              "      <td>Sports</td>\n",
              "      <td>2357745162</td>\n",
              "      <td>53348919</td>\n",
              "      <td>1867254</td>\n",
              "      <td>United States</td>\n",
              "    </tr>\n",
              "    <tr>\n",
              "      <th>4</th>\n",
              "      <td>People &amp; Blogs</td>\n",
              "      <td>2326373242</td>\n",
              "      <td>152216157</td>\n",
              "      <td>4737424</td>\n",
              "      <td>United States</td>\n",
              "    </tr>\n",
              "    <tr>\n",
              "      <th>5</th>\n",
              "      <td>Science &amp; Technology</td>\n",
              "      <td>1141368550</td>\n",
              "      <td>44403004</td>\n",
              "      <td>1423475</td>\n",
              "      <td>United States</td>\n",
              "    </tr>\n",
              "    <tr>\n",
              "      <th>6</th>\n",
              "      <td>Comedy</td>\n",
              "      <td>1111570479</td>\n",
              "      <td>98953571</td>\n",
              "      <td>1135647</td>\n",
              "      <td>United States</td>\n",
              "    </tr>\n",
              "    <tr>\n",
              "      <th>7</th>\n",
              "      <td>Film &amp; Animation</td>\n",
              "      <td>906753925</td>\n",
              "      <td>47011743</td>\n",
              "      <td>982133</td>\n",
              "      <td>United States</td>\n",
              "    </tr>\n",
              "    <tr>\n",
              "      <th>8</th>\n",
              "      <td>Howto &amp; Style</td>\n",
              "      <td>687549514</td>\n",
              "      <td>43021861</td>\n",
              "      <td>1273706</td>\n",
              "      <td>United States</td>\n",
              "    </tr>\n",
              "    <tr>\n",
              "      <th>9</th>\n",
              "      <td>News &amp; Politics</td>\n",
              "      <td>553992951</td>\n",
              "      <td>8467804</td>\n",
              "      <td>1335936</td>\n",
              "      <td>United States</td>\n",
              "    </tr>\n",
              "  </tbody>\n",
              "</table>\n",
              "</div>"
            ],
            "text/plain": [
              "          Category_name   view_count       likes  dislikes        Country\n",
              "0                 Music  15184206655  1108613505  31615188  United States\n",
              "1         Entertainment   5997855145   384206651   7715464  United States\n",
              "2                Gaming   3398117165   168307253   4638537  United States\n",
              "3                Sports   2357745162    53348919   1867254  United States\n",
              "4        People & Blogs   2326373242   152216157   4737424  United States\n",
              "5  Science & Technology   1141368550    44403004   1423475  United States\n",
              "6                Comedy   1111570479    98953571   1135647  United States\n",
              "7      Film & Animation    906753925    47011743    982133  United States\n",
              "8         Howto & Style    687549514    43021861   1273706  United States\n",
              "9       News & Politics    553992951     8467804   1335936  United States"
            ]
          },
          "metadata": {
            "tags": []
          },
          "execution_count": 101
        }
      ]
    },
    {
      "cell_type": "markdown",
      "metadata": {
        "id": "fr6WOINTuCck"
      },
      "source": [
        "Next, combine two dataset into one to make data ready for visualization."
      ]
    },
    {
      "cell_type": "code",
      "metadata": {
        "colab": {
          "base_uri": "https://localhost:8080/",
          "height": 639
        },
        "id": "IRffl_a-dypf",
        "outputId": "2d474b56-ae28-4aa2-c24d-6cb7276513c7"
      },
      "source": [
        "merged_data_2=top_jp_2020.append(top_us_2020)\n",
        "merged_data_2"
      ],
      "execution_count": 102,
      "outputs": [
        {
          "output_type": "execute_result",
          "data": {
            "text/html": [
              "<div>\n",
              "<style scoped>\n",
              "    .dataframe tbody tr th:only-of-type {\n",
              "        vertical-align: middle;\n",
              "    }\n",
              "\n",
              "    .dataframe tbody tr th {\n",
              "        vertical-align: top;\n",
              "    }\n",
              "\n",
              "    .dataframe thead th {\n",
              "        text-align: right;\n",
              "    }\n",
              "</style>\n",
              "<table border=\"1\" class=\"dataframe\">\n",
              "  <thead>\n",
              "    <tr style=\"text-align: right;\">\n",
              "      <th></th>\n",
              "      <th>Category_name</th>\n",
              "      <th>view_count</th>\n",
              "      <th>likes</th>\n",
              "      <th>dislikes</th>\n",
              "      <th>Country</th>\n",
              "    </tr>\n",
              "  </thead>\n",
              "  <tbody>\n",
              "    <tr>\n",
              "      <th>0</th>\n",
              "      <td>Music</td>\n",
              "      <td>10390685184</td>\n",
              "      <td>830284812</td>\n",
              "      <td>22911272</td>\n",
              "      <td>Japan</td>\n",
              "    </tr>\n",
              "    <tr>\n",
              "      <th>1</th>\n",
              "      <td>Entertainment</td>\n",
              "      <td>4011742465</td>\n",
              "      <td>137782185</td>\n",
              "      <td>5155051</td>\n",
              "      <td>Japan</td>\n",
              "    </tr>\n",
              "    <tr>\n",
              "      <th>2</th>\n",
              "      <td>People &amp; Blogs</td>\n",
              "      <td>1098249709</td>\n",
              "      <td>33532873</td>\n",
              "      <td>1072044</td>\n",
              "      <td>Japan</td>\n",
              "    </tr>\n",
              "    <tr>\n",
              "      <th>3</th>\n",
              "      <td>Comedy</td>\n",
              "      <td>1072481774</td>\n",
              "      <td>62957859</td>\n",
              "      <td>821108</td>\n",
              "      <td>Japan</td>\n",
              "    </tr>\n",
              "    <tr>\n",
              "      <th>4</th>\n",
              "      <td>Gaming</td>\n",
              "      <td>864214032</td>\n",
              "      <td>24601826</td>\n",
              "      <td>695949</td>\n",
              "      <td>Japan</td>\n",
              "    </tr>\n",
              "    <tr>\n",
              "      <th>5</th>\n",
              "      <td>Science &amp; Technology</td>\n",
              "      <td>551903730</td>\n",
              "      <td>14461024</td>\n",
              "      <td>941125</td>\n",
              "      <td>Japan</td>\n",
              "    </tr>\n",
              "    <tr>\n",
              "      <th>6</th>\n",
              "      <td>Film &amp; Animation</td>\n",
              "      <td>500705920</td>\n",
              "      <td>10154969</td>\n",
              "      <td>169475</td>\n",
              "      <td>Japan</td>\n",
              "    </tr>\n",
              "    <tr>\n",
              "      <th>7</th>\n",
              "      <td>Sports</td>\n",
              "      <td>431221051</td>\n",
              "      <td>5367931</td>\n",
              "      <td>217964</td>\n",
              "      <td>Japan</td>\n",
              "    </tr>\n",
              "    <tr>\n",
              "      <th>8</th>\n",
              "      <td>Howto &amp; Style</td>\n",
              "      <td>356542189</td>\n",
              "      <td>9010844</td>\n",
              "      <td>364865</td>\n",
              "      <td>Japan</td>\n",
              "    </tr>\n",
              "    <tr>\n",
              "      <th>9</th>\n",
              "      <td>Autos &amp; Vehicles</td>\n",
              "      <td>225314581</td>\n",
              "      <td>13239850</td>\n",
              "      <td>154176</td>\n",
              "      <td>Japan</td>\n",
              "    </tr>\n",
              "    <tr>\n",
              "      <th>0</th>\n",
              "      <td>Music</td>\n",
              "      <td>15184206655</td>\n",
              "      <td>1108613505</td>\n",
              "      <td>31615188</td>\n",
              "      <td>United States</td>\n",
              "    </tr>\n",
              "    <tr>\n",
              "      <th>1</th>\n",
              "      <td>Entertainment</td>\n",
              "      <td>5997855145</td>\n",
              "      <td>384206651</td>\n",
              "      <td>7715464</td>\n",
              "      <td>United States</td>\n",
              "    </tr>\n",
              "    <tr>\n",
              "      <th>2</th>\n",
              "      <td>Gaming</td>\n",
              "      <td>3398117165</td>\n",
              "      <td>168307253</td>\n",
              "      <td>4638537</td>\n",
              "      <td>United States</td>\n",
              "    </tr>\n",
              "    <tr>\n",
              "      <th>3</th>\n",
              "      <td>Sports</td>\n",
              "      <td>2357745162</td>\n",
              "      <td>53348919</td>\n",
              "      <td>1867254</td>\n",
              "      <td>United States</td>\n",
              "    </tr>\n",
              "    <tr>\n",
              "      <th>4</th>\n",
              "      <td>People &amp; Blogs</td>\n",
              "      <td>2326373242</td>\n",
              "      <td>152216157</td>\n",
              "      <td>4737424</td>\n",
              "      <td>United States</td>\n",
              "    </tr>\n",
              "    <tr>\n",
              "      <th>5</th>\n",
              "      <td>Science &amp; Technology</td>\n",
              "      <td>1141368550</td>\n",
              "      <td>44403004</td>\n",
              "      <td>1423475</td>\n",
              "      <td>United States</td>\n",
              "    </tr>\n",
              "    <tr>\n",
              "      <th>6</th>\n",
              "      <td>Comedy</td>\n",
              "      <td>1111570479</td>\n",
              "      <td>98953571</td>\n",
              "      <td>1135647</td>\n",
              "      <td>United States</td>\n",
              "    </tr>\n",
              "    <tr>\n",
              "      <th>7</th>\n",
              "      <td>Film &amp; Animation</td>\n",
              "      <td>906753925</td>\n",
              "      <td>47011743</td>\n",
              "      <td>982133</td>\n",
              "      <td>United States</td>\n",
              "    </tr>\n",
              "    <tr>\n",
              "      <th>8</th>\n",
              "      <td>Howto &amp; Style</td>\n",
              "      <td>687549514</td>\n",
              "      <td>43021861</td>\n",
              "      <td>1273706</td>\n",
              "      <td>United States</td>\n",
              "    </tr>\n",
              "    <tr>\n",
              "      <th>9</th>\n",
              "      <td>News &amp; Politics</td>\n",
              "      <td>553992951</td>\n",
              "      <td>8467804</td>\n",
              "      <td>1335936</td>\n",
              "      <td>United States</td>\n",
              "    </tr>\n",
              "  </tbody>\n",
              "</table>\n",
              "</div>"
            ],
            "text/plain": [
              "          Category_name   view_count       likes  dislikes        Country\n",
              "0                 Music  10390685184   830284812  22911272          Japan\n",
              "1         Entertainment   4011742465   137782185   5155051          Japan\n",
              "2        People & Blogs   1098249709    33532873   1072044          Japan\n",
              "3                Comedy   1072481774    62957859    821108          Japan\n",
              "4                Gaming    864214032    24601826    695949          Japan\n",
              "5  Science & Technology    551903730    14461024    941125          Japan\n",
              "6      Film & Animation    500705920    10154969    169475          Japan\n",
              "7                Sports    431221051     5367931    217964          Japan\n",
              "8         Howto & Style    356542189     9010844    364865          Japan\n",
              "9      Autos & Vehicles    225314581    13239850    154176          Japan\n",
              "0                 Music  15184206655  1108613505  31615188  United States\n",
              "1         Entertainment   5997855145   384206651   7715464  United States\n",
              "2                Gaming   3398117165   168307253   4638537  United States\n",
              "3                Sports   2357745162    53348919   1867254  United States\n",
              "4        People & Blogs   2326373242   152216157   4737424  United States\n",
              "5  Science & Technology   1141368550    44403004   1423475  United States\n",
              "6                Comedy   1111570479    98953571   1135647  United States\n",
              "7      Film & Animation    906753925    47011743    982133  United States\n",
              "8         Howto & Style    687549514    43021861   1273706  United States\n",
              "9       News & Politics    553992951     8467804   1335936  United States"
            ]
          },
          "metadata": {
            "tags": []
          },
          "execution_count": 102
        }
      ]
    },
    {
      "cell_type": "markdown",
      "metadata": {
        "id": "kgPff02EGc0V"
      },
      "source": [
        "It's time to start our analysis!"
      ]
    },
    {
      "cell_type": "markdown",
      "metadata": {
        "id": "AGt1I-B0uVY4"
      },
      "source": [
        "The first Analysis discover whether the top 10 categories are same or different in two countries. According to the plot below, since most categories appear in lists of top categories from both countries, watching preference are overall similar in the US and Japan."
      ]
    },
    {
      "cell_type": "code",
      "metadata": {
        "colab": {
          "base_uri": "https://localhost:8080/",
          "height": 455
        },
        "id": "o1oUprE0eO7l",
        "outputId": "606c27a2-aa5f-4ff5-9493-2ba3173b77b2"
      },
      "source": [
        "sns.catplot(y=\"Category_name\", kind=\"count\", hue='Country', data=merged_data_2, height=6, aspect=0.6);"
      ],
      "execution_count": 103,
      "outputs": [
        {
          "output_type": "display_data",
          "data": {
            "image/png": "[encoded data removed]",
            "text/plain": [
              "<Figure size 362.825x432 with 1 Axes>"
            ]
          },
          "metadata": {
            "tags": [],
            "needs_background": "light"
          }
        }
      ]
    },
    {
      "cell_type": "markdown",
      "metadata": {
        "id": "HJnUcjKtvD52"
      },
      "source": [
        "After taking a glance of shared categories, let's take a look at total views, likes, and dislikes!"
      ]
    },
    {
      "cell_type": "markdown",
      "metadata": {
        "id": "R6gI05WCWAen"
      },
      "source": [
        "Total View by Categories:"
      ]
    },
    {
      "cell_type": "code",
      "metadata": {
        "colab": {
          "base_uri": "https://localhost:8080/",
          "height": 459
        },
        "id": "y1UKjoLhfpNu",
        "outputId": "44614076-e5aa-46c9-800f-9a57de99b289"
      },
      "source": [
        "sns.catplot(x=\"view_count\", y=\"Category_name\", hue=\"Country\", kind=\"bar\", data=merged_data_2, height=6, aspect=2)\n",
        "plt.title('Total Views by Categories');\n"
      ],
      "execution_count": 147,
      "outputs": [
        {
          "output_type": "display_data",
          "data": {
            "image/png": "[encoded data removed]",
            "text/plain": [
              "<Figure size 967.625x432 with 1 Axes>"
            ]
          },
          "metadata": {
            "tags": [],
            "needs_background": "light"
          }
        }
      ]
    },
    {
      "cell_type": "markdown",
      "metadata": {
        "id": "iTI2nAcXWD77"
      },
      "source": [
        "Total Likes by Categories:"
      ]
    },
    {
      "cell_type": "code",
      "metadata": {
        "colab": {
          "base_uri": "https://localhost:8080/",
          "height": 458
        },
        "id": "w8Z_q2tDfzFD",
        "outputId": "d7f1b05a-49bd-4da7-9359-ab5b1f1f8fd8"
      },
      "source": [
        "sns.catplot(x=\"likes\", y=\"Category_name\", hue=\"Country\", kind=\"bar\", data=merged_data_2, height=6, aspect=2)\n",
        "plt.title('Total Likes by Categories');\n",
        "#view_count_plot.set_xticklabels(rotation=40)"
      ],
      "execution_count": 148,
      "outputs": [
        {
          "output_type": "display_data",
          "data": {
            "image/png": "[encoded data removed]",
            "text/plain": [
              "<Figure size 967.625x432 with 1 Axes>"
            ]
          },
          "metadata": {
            "tags": [],
            "needs_background": "light"
          }
        }
      ]
    },
    {
      "cell_type": "markdown",
      "metadata": {
        "id": "UqVLoQV7WHXD"
      },
      "source": [
        "Total Dislikes by Categories:"
      ]
    },
    {
      "cell_type": "code",
      "metadata": {
        "colab": {
          "base_uri": "https://localhost:8080/",
          "height": 458
        },
        "id": "Uu98S9Vlmo6g",
        "outputId": "a1688974-74f9-4c7b-f6a3-3296ea23d280"
      },
      "source": [
        "view_count_plot=sns.catplot(x=\"dislikes\", y=\"Category_name\", hue=\"Country\", kind=\"bar\", data=merged_data_2, height=6, aspect=2)\n",
        "plt.title('Total Dislikes by Categories');\n",
        "#view_count_plot.set_xticklabels(rotation=40)"
      ],
      "execution_count": 149,
      "outputs": [
        {
          "output_type": "display_data",
          "data": {
            "image/png": "[encoded data removed]",
            "text/plain": [
              "<Figure size 967.625x432 with 1 Axes>"
            ]
          },
          "metadata": {
            "tags": [],
            "needs_background": "light"
          }
        }
      ]
    },
    {
      "cell_type": "markdown",
      "metadata": {
        "id": "sO-Q5ZyOvUei"
      },
      "source": [
        "Obviously, music and entertain top the lists of total views, like, and dislikes. This represent these two categories are the viewers' favorite."
      ]
    },
    {
      "cell_type": "markdown",
      "metadata": {
        "id": "0PnljDeNCH-n"
      },
      "source": [
        "## 4. Analysis of YouTube Videos\n",
        "\n",
        "> After analyzing Youtube videos in a \"macro\" aspect, we could start focusing on the \"micro\" side. For this section, we will grab videos with top 10 view counts, analyze its statistics, and monitor how long does a video take to go trending.\n",
        "\n"
      ]
    },
    {
      "cell_type": "markdown",
      "metadata": {
        "id": "B_2OMWrMDP2g"
      },
      "source": [
        "### Top 10 videos  in 2020 for US and Japan\n",
        "\n",
        "> \n",
        "\n"
      ]
    },
    {
      "cell_type": "markdown",
      "metadata": {
        "id": "DnCspEFkGSOT"
      },
      "source": [
        "> To create an ideal data for visualization, create a dataset of top 10 videos from each country.\n",
        "\n"
      ]
    },
    {
      "cell_type": "markdown",
      "metadata": {
        "id": "PMVjCjqEGzS7"
      },
      "source": [
        "Top 10 Videos in Japan:\n",
        "\n"
      ]
    },
    {
      "cell_type": "code",
      "metadata": {
        "colab": {
          "base_uri": "https://localhost:8080/",
          "height": 343
        },
        "id": "-qfVsQa2FQpc",
        "outputId": "32a3089d-a3cd-44e5-eaa0-157ece053a03"
      },
      "source": [
        "data_a=pre_data.loc[(data2[\"Country\"] == \"Japan\")]\n",
        "top_jp_videos=data_a.groupby('title').sum().sort_values(by='view_count', ascending=False)[0:10].reset_index('title')\n",
        "top_jp_videos['Country']='Japan'\n",
        "top_jp_videos"
      ],
      "execution_count": 117,
      "outputs": [
        {
          "output_type": "execute_result",
          "data": {
            "text/html": [
              "<div>\n",
              "<style scoped>\n",
              "    .dataframe tbody tr th:only-of-type {\n",
              "        vertical-align: middle;\n",
              "    }\n",
              "\n",
              "    .dataframe tbody tr th {\n",
              "        vertical-align: top;\n",
              "    }\n",
              "\n",
              "    .dataframe thead th {\n",
              "        text-align: right;\n",
              "    }\n",
              "</style>\n",
              "<table border=\"1\" class=\"dataframe\">\n",
              "  <thead>\n",
              "    <tr style=\"text-align: right;\">\n",
              "      <th></th>\n",
              "      <th>title</th>\n",
              "      <th>view_count</th>\n",
              "      <th>likes</th>\n",
              "      <th>dislikes</th>\n",
              "      <th>year</th>\n",
              "      <th>Country</th>\n",
              "    </tr>\n",
              "  </thead>\n",
              "  <tbody>\n",
              "    <tr>\n",
              "      <th>0</th>\n",
              "      <td>BTS (방탄소년단) 'Dynamite' Official MV</td>\n",
              "      <td>1948824175</td>\n",
              "      <td>140509764</td>\n",
              "      <td>5912301</td>\n",
              "      <td>20200</td>\n",
              "      <td>Japan</td>\n",
              "    </tr>\n",
              "    <tr>\n",
              "      <th>1</th>\n",
              "      <td>BLACKPINK - 'Ice Cream (with Selena Gomez)' M/V</td>\n",
              "      <td>1181849189</td>\n",
              "      <td>85887782</td>\n",
              "      <td>6334334</td>\n",
              "      <td>16160</td>\n",
              "      <td>Japan</td>\n",
              "    </tr>\n",
              "    <tr>\n",
              "      <th>2</th>\n",
              "      <td>BLACKPINK – ‘Lovesick Girls’ M/V</td>\n",
              "      <td>1122571356</td>\n",
              "      <td>82574378</td>\n",
              "      <td>945688</td>\n",
              "      <td>20200</td>\n",
              "      <td>Japan</td>\n",
              "    </tr>\n",
              "    <tr>\n",
              "      <th>3</th>\n",
              "      <td>BTS (방탄소년단) 'Dynamite' Official Teaser</td>\n",
              "      <td>442479528</td>\n",
              "      <td>46262660</td>\n",
              "      <td>1119539</td>\n",
              "      <td>16160</td>\n",
              "      <td>Japan</td>\n",
              "    </tr>\n",
              "    <tr>\n",
              "      <th>4</th>\n",
              "      <td>BTS (방탄소년단) 'Dynamite' Official MV (B-side)</td>\n",
              "      <td>358847120</td>\n",
              "      <td>50797734</td>\n",
              "      <td>796088</td>\n",
              "      <td>18180</td>\n",
              "      <td>Japan</td>\n",
              "    </tr>\n",
              "    <tr>\n",
              "      <th>5</th>\n",
              "      <td>NCT U 엔시티 유 'Make A Wish (Birthday Song)' MV</td>\n",
              "      <td>314483880</td>\n",
              "      <td>10850498</td>\n",
              "      <td>154059</td>\n",
              "      <td>12120</td>\n",
              "      <td>Japan</td>\n",
              "    </tr>\n",
              "    <tr>\n",
              "      <th>6</th>\n",
              "      <td>Cardi B - WAP feat. Megan Thee Stallion [Offic...</td>\n",
              "      <td>247810667</td>\n",
              "      <td>8785584</td>\n",
              "      <td>1223284</td>\n",
              "      <td>6060</td>\n",
              "      <td>Japan</td>\n",
              "    </tr>\n",
              "    <tr>\n",
              "      <th>7</th>\n",
              "      <td>Justin Bieber - Holy ft. Chance The Rapper</td>\n",
              "      <td>239077043</td>\n",
              "      <td>16852222</td>\n",
              "      <td>390967</td>\n",
              "      <td>16160</td>\n",
              "      <td>Japan</td>\n",
              "    </tr>\n",
              "    <tr>\n",
              "      <th>8</th>\n",
              "      <td>Stray Kids Back Door M/V</td>\n",
              "      <td>234212016</td>\n",
              "      <td>13919811</td>\n",
              "      <td>154702</td>\n",
              "      <td>14140</td>\n",
              "      <td>Japan</td>\n",
              "    </tr>\n",
              "    <tr>\n",
              "      <th>9</th>\n",
              "      <td>Apple Event — October 13</td>\n",
              "      <td>231516781</td>\n",
              "      <td>4390105</td>\n",
              "      <td>224006</td>\n",
              "      <td>10100</td>\n",
              "      <td>Japan</td>\n",
              "    </tr>\n",
              "  </tbody>\n",
              "</table>\n",
              "</div>"
            ],
            "text/plain": [
              "                                               title  view_count  ...   year  Country\n",
              "0                 BTS (방탄소년단) 'Dynamite' Official MV  1948824175  ...  20200    Japan\n",
              "1    BLACKPINK - 'Ice Cream (with Selena Gomez)' M/V  1181849189  ...  16160    Japan\n",
              "2                   BLACKPINK – ‘Lovesick Girls’ M/V  1122571356  ...  20200    Japan\n",
              "3             BTS (방탄소년단) 'Dynamite' Official Teaser   442479528  ...  16160    Japan\n",
              "4        BTS (방탄소년단) 'Dynamite' Official MV (B-side)   358847120  ...  18180    Japan\n",
              "5       NCT U 엔시티 유 'Make A Wish (Birthday Song)' MV   314483880  ...  12120    Japan\n",
              "6  Cardi B - WAP feat. Megan Thee Stallion [Offic...   247810667  ...   6060    Japan\n",
              "7         Justin Bieber - Holy ft. Chance The Rapper   239077043  ...  16160    Japan\n",
              "8                           Stray Kids Back Door M/V   234212016  ...  14140    Japan\n",
              "9                           Apple Event — October 13   231516781  ...  10100    Japan\n",
              "\n",
              "[10 rows x 6 columns]"
            ]
          },
          "metadata": {
            "tags": []
          },
          "execution_count": 117
        }
      ]
    },
    {
      "cell_type": "markdown",
      "metadata": {
        "id": "asLRhAV_G4Cr"
      },
      "source": [
        "Top 10 Videos in the US:\n",
        "\n"
      ]
    },
    {
      "cell_type": "code",
      "metadata": {
        "colab": {
          "base_uri": "https://localhost:8080/",
          "height": 343
        },
        "id": "8gj5FNEuF4pl",
        "outputId": "0f489ff4-0565-4cea-c537-5c0651da83a1"
      },
      "source": [
        "data_b=pre_data.loc[(data2[\"Country\"] == \"United States\")]\n",
        "top_us_videos=data_b.groupby('title').sum().sort_values(by='view_count', ascending=False)[0:10].reset_index('title')\n",
        "top_us_videos['Country']='United States'\n",
        "top_us_videos"
      ],
      "execution_count": 118,
      "outputs": [
        {
          "output_type": "execute_result",
          "data": {
            "text/html": [
              "<div>\n",
              "<style scoped>\n",
              "    .dataframe tbody tr th:only-of-type {\n",
              "        vertical-align: middle;\n",
              "    }\n",
              "\n",
              "    .dataframe tbody tr th {\n",
              "        vertical-align: top;\n",
              "    }\n",
              "\n",
              "    .dataframe thead th {\n",
              "        text-align: right;\n",
              "    }\n",
              "</style>\n",
              "<table border=\"1\" class=\"dataframe\">\n",
              "  <thead>\n",
              "    <tr style=\"text-align: right;\">\n",
              "      <th></th>\n",
              "      <th>title</th>\n",
              "      <th>view_count</th>\n",
              "      <th>likes</th>\n",
              "      <th>dislikes</th>\n",
              "      <th>year</th>\n",
              "      <th>Country</th>\n",
              "    </tr>\n",
              "  </thead>\n",
              "  <tbody>\n",
              "    <tr>\n",
              "      <th>0</th>\n",
              "      <td>BTS (방탄소년단) 'Dynamite' Official MV</td>\n",
              "      <td>1388564083</td>\n",
              "      <td>107183079</td>\n",
              "      <td>4268039</td>\n",
              "      <td>16160</td>\n",
              "      <td>United States</td>\n",
              "    </tr>\n",
              "    <tr>\n",
              "      <th>1</th>\n",
              "      <td>BLACKPINK - 'Ice Cream (with Selena Gomez)' M/V</td>\n",
              "      <td>1233082942</td>\n",
              "      <td>91799816</td>\n",
              "      <td>6739558</td>\n",
              "      <td>18180</td>\n",
              "      <td>United States</td>\n",
              "    </tr>\n",
              "    <tr>\n",
              "      <th>2</th>\n",
              "      <td>Justin Bieber - Holy ft. Chance The Rapper</td>\n",
              "      <td>1014588187</td>\n",
              "      <td>58974801</td>\n",
              "      <td>1448496</td>\n",
              "      <td>50500</td>\n",
              "      <td>United States</td>\n",
              "    </tr>\n",
              "    <tr>\n",
              "      <th>3</th>\n",
              "      <td>BLACKPINK – ‘Lovesick Girls’ M/V</td>\n",
              "      <td>823163248</td>\n",
              "      <td>63844212</td>\n",
              "      <td>671622</td>\n",
              "      <td>16160</td>\n",
              "      <td>United States</td>\n",
              "    </tr>\n",
              "    <tr>\n",
              "      <th>4</th>\n",
              "      <td>Cardi B - WAP feat. Megan Thee Stallion [Offic...</td>\n",
              "      <td>440186929</td>\n",
              "      <td>15125175</td>\n",
              "      <td>2143806</td>\n",
              "      <td>10100</td>\n",
              "      <td>United States</td>\n",
              "    </tr>\n",
              "    <tr>\n",
              "      <th>5</th>\n",
              "      <td>BTS (방탄소년단) 'Dynamite' Official Teaser</td>\n",
              "      <td>320085636</td>\n",
              "      <td>33971814</td>\n",
              "      <td>808540</td>\n",
              "      <td>12120</td>\n",
              "      <td>United States</td>\n",
              "    </tr>\n",
              "    <tr>\n",
              "      <th>6</th>\n",
              "      <td>DJ Khaled ft. Drake - POPSTAR (Official Music ...</td>\n",
              "      <td>286327150</td>\n",
              "      <td>16081380</td>\n",
              "      <td>737484</td>\n",
              "      <td>20200</td>\n",
              "      <td>United States</td>\n",
              "    </tr>\n",
              "    <tr>\n",
              "      <th>7</th>\n",
              "      <td>Drake - Laugh Now Cry Later (Official Music Vi...</td>\n",
              "      <td>271592962</td>\n",
              "      <td>12528423</td>\n",
              "      <td>304292</td>\n",
              "      <td>20200</td>\n",
              "      <td>United States</td>\n",
              "    </tr>\n",
              "    <tr>\n",
              "      <th>8</th>\n",
              "      <td>AMONG US, but with 99 IMPOSTORS</td>\n",
              "      <td>259385449</td>\n",
              "      <td>9795700</td>\n",
              "      <td>203030</td>\n",
              "      <td>12120</td>\n",
              "      <td>United States</td>\n",
              "    </tr>\n",
              "    <tr>\n",
              "      <th>9</th>\n",
              "      <td>BTS (방탄소년단) 'Dynamite' Official MV (B-side)</td>\n",
              "      <td>226652642</td>\n",
              "      <td>33136176</td>\n",
              "      <td>511324</td>\n",
              "      <td>12120</td>\n",
              "      <td>United States</td>\n",
              "    </tr>\n",
              "  </tbody>\n",
              "</table>\n",
              "</div>"
            ],
            "text/plain": [
              "                                               title  ...        Country\n",
              "0                 BTS (방탄소년단) 'Dynamite' Official MV  ...  United States\n",
              "1    BLACKPINK - 'Ice Cream (with Selena Gomez)' M/V  ...  United States\n",
              "2         Justin Bieber - Holy ft. Chance The Rapper  ...  United States\n",
              "3                   BLACKPINK – ‘Lovesick Girls’ M/V  ...  United States\n",
              "4  Cardi B - WAP feat. Megan Thee Stallion [Offic...  ...  United States\n",
              "5             BTS (방탄소년단) 'Dynamite' Official Teaser  ...  United States\n",
              "6  DJ Khaled ft. Drake - POPSTAR (Official Music ...  ...  United States\n",
              "7  Drake - Laugh Now Cry Later (Official Music Vi...  ...  United States\n",
              "8                    AMONG US, but with 99 IMPOSTORS  ...  United States\n",
              "9        BTS (방탄소년단) 'Dynamite' Official MV (B-side)  ...  United States\n",
              "\n",
              "[10 rows x 6 columns]"
            ]
          },
          "metadata": {
            "tags": []
          },
          "execution_count": 118
        }
      ]
    },
    {
      "cell_type": "markdown",
      "metadata": {
        "id": "5DhtIVixGlKQ"
      },
      "source": [
        "Next, combine two dataset into one to make data ready for visualization.\n",
        "\n"
      ]
    },
    {
      "cell_type": "code",
      "metadata": {
        "colab": {
          "base_uri": "https://localhost:8080/",
          "height": 639
        },
        "id": "DO0isoLiGFvP",
        "outputId": "dc86cdb0-7aeb-43c1-be32-28a194524184"
      },
      "source": [
        "top_videos_data=top_jp_videos.append(top_us_videos)\n",
        "top_videos_data"
      ],
      "execution_count": 125,
      "outputs": [
        {
          "output_type": "execute_result",
          "data": {
            "text/html": [
              "<div>\n",
              "<style scoped>\n",
              "    .dataframe tbody tr th:only-of-type {\n",
              "        vertical-align: middle;\n",
              "    }\n",
              "\n",
              "    .dataframe tbody tr th {\n",
              "        vertical-align: top;\n",
              "    }\n",
              "\n",
              "    .dataframe thead th {\n",
              "        text-align: right;\n",
              "    }\n",
              "</style>\n",
              "<table border=\"1\" class=\"dataframe\">\n",
              "  <thead>\n",
              "    <tr style=\"text-align: right;\">\n",
              "      <th></th>\n",
              "      <th>title</th>\n",
              "      <th>view_count</th>\n",
              "      <th>likes</th>\n",
              "      <th>dislikes</th>\n",
              "      <th>year</th>\n",
              "      <th>Country</th>\n",
              "    </tr>\n",
              "  </thead>\n",
              "  <tbody>\n",
              "    <tr>\n",
              "      <th>0</th>\n",
              "      <td>BTS (방탄소년단) 'Dynamite' Official MV</td>\n",
              "      <td>1948824175</td>\n",
              "      <td>140509764</td>\n",
              "      <td>5912301</td>\n",
              "      <td>20200</td>\n",
              "      <td>Japan</td>\n",
              "    </tr>\n",
              "    <tr>\n",
              "      <th>1</th>\n",
              "      <td>BLACKPINK - 'Ice Cream (with Selena Gomez)' M/V</td>\n",
              "      <td>1181849189</td>\n",
              "      <td>85887782</td>\n",
              "      <td>6334334</td>\n",
              "      <td>16160</td>\n",
              "      <td>Japan</td>\n",
              "    </tr>\n",
              "    <tr>\n",
              "      <th>2</th>\n",
              "      <td>BLACKPINK – ‘Lovesick Girls’ M/V</td>\n",
              "      <td>1122571356</td>\n",
              "      <td>82574378</td>\n",
              "      <td>945688</td>\n",
              "      <td>20200</td>\n",
              "      <td>Japan</td>\n",
              "    </tr>\n",
              "    <tr>\n",
              "      <th>3</th>\n",
              "      <td>BTS (방탄소년단) 'Dynamite' Official Teaser</td>\n",
              "      <td>442479528</td>\n",
              "      <td>46262660</td>\n",
              "      <td>1119539</td>\n",
              "      <td>16160</td>\n",
              "      <td>Japan</td>\n",
              "    </tr>\n",
              "    <tr>\n",
              "      <th>4</th>\n",
              "      <td>BTS (방탄소년단) 'Dynamite' Official MV (B-side)</td>\n",
              "      <td>358847120</td>\n",
              "      <td>50797734</td>\n",
              "      <td>796088</td>\n",
              "      <td>18180</td>\n",
              "      <td>Japan</td>\n",
              "    </tr>\n",
              "    <tr>\n",
              "      <th>5</th>\n",
              "      <td>NCT U 엔시티 유 'Make A Wish (Birthday Song)' MV</td>\n",
              "      <td>314483880</td>\n",
              "      <td>10850498</td>\n",
              "      <td>154059</td>\n",
              "      <td>12120</td>\n",
              "      <td>Japan</td>\n",
              "    </tr>\n",
              "    <tr>\n",
              "      <th>6</th>\n",
              "      <td>Cardi B - WAP feat. Megan Thee Stallion [Offic...</td>\n",
              "      <td>247810667</td>\n",
              "      <td>8785584</td>\n",
              "      <td>1223284</td>\n",
              "      <td>6060</td>\n",
              "      <td>Japan</td>\n",
              "    </tr>\n",
              "    <tr>\n",
              "      <th>7</th>\n",
              "      <td>Justin Bieber - Holy ft. Chance The Rapper</td>\n",
              "      <td>239077043</td>\n",
              "      <td>16852222</td>\n",
              "      <td>390967</td>\n",
              "      <td>16160</td>\n",
              "      <td>Japan</td>\n",
              "    </tr>\n",
              "    <tr>\n",
              "      <th>8</th>\n",
              "      <td>Stray Kids Back Door M/V</td>\n",
              "      <td>234212016</td>\n",
              "      <td>13919811</td>\n",
              "      <td>154702</td>\n",
              "      <td>14140</td>\n",
              "      <td>Japan</td>\n",
              "    </tr>\n",
              "    <tr>\n",
              "      <th>9</th>\n",
              "      <td>Apple Event — October 13</td>\n",
              "      <td>231516781</td>\n",
              "      <td>4390105</td>\n",
              "      <td>224006</td>\n",
              "      <td>10100</td>\n",
              "      <td>Japan</td>\n",
              "    </tr>\n",
              "    <tr>\n",
              "      <th>0</th>\n",
              "      <td>BTS (방탄소년단) 'Dynamite' Official MV</td>\n",
              "      <td>1388564083</td>\n",
              "      <td>107183079</td>\n",
              "      <td>4268039</td>\n",
              "      <td>16160</td>\n",
              "      <td>United States</td>\n",
              "    </tr>\n",
              "    <tr>\n",
              "      <th>1</th>\n",
              "      <td>BLACKPINK - 'Ice Cream (with Selena Gomez)' M/V</td>\n",
              "      <td>1233082942</td>\n",
              "      <td>91799816</td>\n",
              "      <td>6739558</td>\n",
              "      <td>18180</td>\n",
              "      <td>United States</td>\n",
              "    </tr>\n",
              "    <tr>\n",
              "      <th>2</th>\n",
              "      <td>Justin Bieber - Holy ft. Chance The Rapper</td>\n",
              "      <td>1014588187</td>\n",
              "      <td>58974801</td>\n",
              "      <td>1448496</td>\n",
              "      <td>50500</td>\n",
              "      <td>United States</td>\n",
              "    </tr>\n",
              "    <tr>\n",
              "      <th>3</th>\n",
              "      <td>BLACKPINK – ‘Lovesick Girls’ M/V</td>\n",
              "      <td>823163248</td>\n",
              "      <td>63844212</td>\n",
              "      <td>671622</td>\n",
              "      <td>16160</td>\n",
              "      <td>United States</td>\n",
              "    </tr>\n",
              "    <tr>\n",
              "      <th>4</th>\n",
              "      <td>Cardi B - WAP feat. Megan Thee Stallion [Offic...</td>\n",
              "      <td>440186929</td>\n",
              "      <td>15125175</td>\n",
              "      <td>2143806</td>\n",
              "      <td>10100</td>\n",
              "      <td>United States</td>\n",
              "    </tr>\n",
              "    <tr>\n",
              "      <th>5</th>\n",
              "      <td>BTS (방탄소년단) 'Dynamite' Official Teaser</td>\n",
              "      <td>320085636</td>\n",
              "      <td>33971814</td>\n",
              "      <td>808540</td>\n",
              "      <td>12120</td>\n",
              "      <td>United States</td>\n",
              "    </tr>\n",
              "    <tr>\n",
              "      <th>6</th>\n",
              "      <td>DJ Khaled ft. Drake - POPSTAR (Official Music ...</td>\n",
              "      <td>286327150</td>\n",
              "      <td>16081380</td>\n",
              "      <td>737484</td>\n",
              "      <td>20200</td>\n",
              "      <td>United States</td>\n",
              "    </tr>\n",
              "    <tr>\n",
              "      <th>7</th>\n",
              "      <td>Drake - Laugh Now Cry Later (Official Music Vi...</td>\n",
              "      <td>271592962</td>\n",
              "      <td>12528423</td>\n",
              "      <td>304292</td>\n",
              "      <td>20200</td>\n",
              "      <td>United States</td>\n",
              "    </tr>\n",
              "    <tr>\n",
              "      <th>8</th>\n",
              "      <td>AMONG US, but with 99 IMPOSTORS</td>\n",
              "      <td>259385449</td>\n",
              "      <td>9795700</td>\n",
              "      <td>203030</td>\n",
              "      <td>12120</td>\n",
              "      <td>United States</td>\n",
              "    </tr>\n",
              "    <tr>\n",
              "      <th>9</th>\n",
              "      <td>BTS (방탄소년단) 'Dynamite' Official MV (B-side)</td>\n",
              "      <td>226652642</td>\n",
              "      <td>33136176</td>\n",
              "      <td>511324</td>\n",
              "      <td>12120</td>\n",
              "      <td>United States</td>\n",
              "    </tr>\n",
              "  </tbody>\n",
              "</table>\n",
              "</div>"
            ],
            "text/plain": [
              "                                               title  ...        Country\n",
              "0                 BTS (방탄소년단) 'Dynamite' Official MV  ...          Japan\n",
              "1    BLACKPINK - 'Ice Cream (with Selena Gomez)' M/V  ...          Japan\n",
              "2                   BLACKPINK – ‘Lovesick Girls’ M/V  ...          Japan\n",
              "3             BTS (방탄소년단) 'Dynamite' Official Teaser  ...          Japan\n",
              "4        BTS (방탄소년단) 'Dynamite' Official MV (B-side)  ...          Japan\n",
              "5       NCT U 엔시티 유 'Make A Wish (Birthday Song)' MV  ...          Japan\n",
              "6  Cardi B - WAP feat. Megan Thee Stallion [Offic...  ...          Japan\n",
              "7         Justin Bieber - Holy ft. Chance The Rapper  ...          Japan\n",
              "8                           Stray Kids Back Door M/V  ...          Japan\n",
              "9                           Apple Event — October 13  ...          Japan\n",
              "0                 BTS (방탄소년단) 'Dynamite' Official MV  ...  United States\n",
              "1    BLACKPINK - 'Ice Cream (with Selena Gomez)' M/V  ...  United States\n",
              "2         Justin Bieber - Holy ft. Chance The Rapper  ...  United States\n",
              "3                   BLACKPINK – ‘Lovesick Girls’ M/V  ...  United States\n",
              "4  Cardi B - WAP feat. Megan Thee Stallion [Offic...  ...  United States\n",
              "5             BTS (방탄소년단) 'Dynamite' Official Teaser  ...  United States\n",
              "6  DJ Khaled ft. Drake - POPSTAR (Official Music ...  ...  United States\n",
              "7  Drake - Laugh Now Cry Later (Official Music Vi...  ...  United States\n",
              "8                    AMONG US, but with 99 IMPOSTORS  ...  United States\n",
              "9        BTS (방탄소년단) 'Dynamite' Official MV (B-side)  ...  United States\n",
              "\n",
              "[20 rows x 6 columns]"
            ]
          },
          "metadata": {
            "tags": []
          },
          "execution_count": 125
        }
      ]
    },
    {
      "cell_type": "markdown",
      "metadata": {
        "id": "uJzDqOqXHBDz"
      },
      "source": [
        "It's time to start our analysis!"
      ]
    },
    {
      "cell_type": "markdown",
      "metadata": {
        "id": "Q9Rps7NNNrsq"
      },
      "source": [
        "It is a bit surprising that top lists of videos from both countries are similar.Especially, Korean videos, like BTS and BlackPink, received high view_counts, likes, and dislikes from both countries."
      ]
    },
    {
      "cell_type": "markdown",
      "metadata": {
        "id": "Pyhd7YMCWNHI"
      },
      "source": [
        "Total View Counts by Video:"
      ]
    },
    {
      "cell_type": "code",
      "metadata": {
        "colab": {
          "base_uri": "https://localhost:8080/",
          "height": 459
        },
        "id": "0KzsveHtHmyB",
        "outputId": "6189a716-0213-46ce-c14d-01ae21ad279f"
      },
      "source": [
        "sns.catplot(x=\"view_count\", y=\"title\", hue=\"Country\", kind=\"bar\", data=top_videos_data, height=6, aspect=2)\n",
        "plt.title('Total View Counts by Videos');\n"
      ],
      "execution_count": 163,
      "outputs": [
        {
          "output_type": "display_data",
          "data": {
            "image/png": "[encoded data removed]",
            "text/plain": [
              "<Figure size 967.625x432 with 1 Axes>"
            ]
          },
          "metadata": {
            "tags": [],
            "needs_background": "light"
          }
        }
      ]
    },
    {
      "cell_type": "markdown",
      "metadata": {
        "id": "vyigXg4cWaYo"
      },
      "source": [
        "Total Likes by Videos:"
      ]
    },
    {
      "cell_type": "code",
      "metadata": {
        "colab": {
          "base_uri": "https://localhost:8080/",
          "height": 458
        },
        "id": "rryaM9wGLSx2",
        "outputId": "80fdd928-97af-4890-8487-f3b43d6890ab"
      },
      "source": [
        "sns.catplot(x=\"likes\", y=\"title\", hue=\"Country\", kind=\"bar\", data=top_videos_data, height=6, aspect=2)\n",
        "plt.title('Total Likes by Videos');"
      ],
      "execution_count": 160,
      "outputs": [
        {
          "output_type": "display_data",
          "data": {
            "image/png": "[encoded data removed]",
            "text/plain": [
              "<Figure size 967.625x432 with 1 Axes>"
            ]
          },
          "metadata": {
            "tags": [],
            "needs_background": "light"
          }
        }
      ]
    },
    {
      "cell_type": "markdown",
      "metadata": {
        "id": "8ScK0hTTWeTE"
      },
      "source": [
        "Total Dislikes by Videos:"
      ]
    },
    {
      "cell_type": "code",
      "metadata": {
        "colab": {
          "base_uri": "https://localhost:8080/",
          "height": 458
        },
        "id": "RFdLauZkLk5r",
        "outputId": "92f57c00-e554-44a4-8af8-3e28c5c6a637"
      },
      "source": [
        "video_view_count_plot=sns.catplot(x=\"dislikes\", y=\"title\", hue=\"Country\", kind=\"bar\", data=top_videos_data, height=6, aspect=2)\n",
        "plt.title('Total Dislikes by Videos');"
      ],
      "execution_count": 161,
      "outputs": [
        {
          "output_type": "display_data",
          "data": {
            "image/png": "[encoded data removed]",
            "text/plain": [
              "<Figure size 967.625x432 with 1 Axes>"
            ]
          },
          "metadata": {
            "tags": [],
            "needs_background": "light"
          }
        }
      ]
    },
    {
      "cell_type": "markdown",
      "metadata": {
        "id": "Kt-SvPPZPk6O"
      },
      "source": [
        "It seems that both Japanese and American are the fan of Korea music!"
      ]
    }
  ]
}