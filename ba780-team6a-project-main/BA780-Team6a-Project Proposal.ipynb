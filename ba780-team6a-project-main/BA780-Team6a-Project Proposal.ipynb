{
 "cells": [
  {
   "cell_type": "markdown",
   "metadata": {},
   "source": [
    "# Team 6a - Phase 1 - Project Proposal"
   ]
  },
  {
   "cell_type": "markdown",
   "metadata": {},
   "source": [
    "## Title : \n",
    "\n",
    "US and Japan YouTube Trending Videos"
   ]
  },
  {
   "cell_type": "markdown",
   "metadata": {},
   "source": [
    "## Problem: \n",
    "    \n",
    "Our goal is to analyze US and Japan YouTube trending videos and identify preferences in video categories, channels, publishing and trending time and viewer interactions. We will analyze the characteristics including categories, view, likes count and trending time (season/weekday/month), in trending videos to identify and compare changes in preference over time. Moreover, we are interested to know if the country culture has an influence on the YouTube trending videos characteristics."
   ]
  },
  {
   "cell_type": "markdown",
   "metadata": {},
   "source": [
    "## Data source:\n",
    "\n",
    "Initially, we had four different tables with the videos information and two tables that contain the video categories information. \n",
    "\n",
    "\n",
    "`ba775-team-6a.youtube.US_youtube_trending_data`,\n",
    "`ba775-team-6a.youtube.US_youtube_trending_data_past`,\n",
    "`ba775-team-6a.youtube.JP_youtube_trending_data`,\n",
    "`ba775-team-6a.youtube.JP_youtube_trending_data_past`,\n",
    "`ba775-team-6a.youtube.US_video_categories`,\n",
    "`ba775-team-6a.youtube.JP_video_categories`\n",
    "\n",
    "We decided to put all the information in one table which is the one that we will use in our analysis:\n",
    "\n",
    "`ba775-team-6a.youtube.Youtube_trending_videos`\n",
    "\n",
    "Also, we are using YouTube API to gather more video characteristics such as channel statistics, comments and playlists:\n",
    "\n",
    "https://developers.google.com/youtube/v3/docs"
   ]
  },
  {
   "cell_type": "markdown",
   "metadata": {},
   "source": [
    "## Reference to datasource:\n",
    "\n",
    "This datasources were collected using the Youtube API and it presents a list of the top trending videos on the platform. To determine the year's top-trending videos, Youtube uses a combination of factors such as number of views, shares, comments and likes. We accessed the datasources via Kaggle data notebooks  \"Trending Yotube Video Statistics\" and \"YouTube Trending Video Dataset\".\n",
    "\n",
    "YouTube API's documentation:\n",
    "https://developers.google.com/youtube/v3/docs\n",
    "\n",
    "Links: \n",
    "\n",
    "https://www.kaggle.com/datasnaek/youtube-new\n",
    "\n",
    "https://www.kaggle.com/rsrishav/youtube-trending-video-dataset"
   ]
  }
 ],
 "metadata": {
  "environment": {
   "name": "common-cpu.m56",
   "type": "gcloud",
   "uri": "gcr.io/deeplearning-platform-release/base-cpu:m56"
  },
  "kernelspec": {
   "display_name": "Python 3",
   "language": "python",
   "name": "python3"
  },
  "language_info": {
   "codemirror_mode": {
    "name": "ipython",
    "version": 3
   },
   "file_extension": ".py",
   "mimetype": "text/x-python",
   "name": "python",
   "nbconvert_exporter": "python",
   "pygments_lexer": "ipython3",
   "version": "3.8.5"
  }
 },
 "nbformat": 4,
 "nbformat_minor": 4
}
