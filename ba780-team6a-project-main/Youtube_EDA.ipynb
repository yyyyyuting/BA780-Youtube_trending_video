{
 "cells": [
  {
   "cell_type": "markdown",
   "metadata": {},
   "source": [
    "## YouTube Dataset - Exploratory Data Analysis"
   ]
  },
  {
   "cell_type": "code",
   "execution_count": 18,
   "metadata": {},
   "outputs": [],
   "source": [
    "import pandas as pd\n",
    "df = pd.read_csv(\"YouTube_trending_videos.csv\")"
   ]
  },
  {
   "cell_type": "code",
   "execution_count": 2,
   "metadata": {},
   "outputs": [
    {
     "name": "stdout",
     "output_type": "stream",
     "text": [
      "<class 'pandas.core.frame.DataFrame'>\n",
      "RangeIndex: 71868 entries, 0 to 71867\n",
      "Data columns (total 16 columns):\n",
      " #   Column             Non-Null Count  Dtype \n",
      "---  ------             --------------  ----- \n",
      " 0   video_id           71868 non-null  object\n",
      " 1   title              71868 non-null  object\n",
      " 2   publishedAt        71868 non-null  object\n",
      " 3   channelId          26794 non-null  object\n",
      " 4   channelTitle       71868 non-null  object\n",
      " 5   categoryId         71868 non-null  int64 \n",
      " 6   trending_date      71868 non-null  object\n",
      " 7   view_count         71868 non-null  int64 \n",
      " 8   likes              71868 non-null  int64 \n",
      " 9   dislikes           71868 non-null  int64 \n",
      " 10  comment_count      71868 non-null  int64 \n",
      " 11  comments_disabled  71868 non-null  bool  \n",
      " 12  ratings_disabled   71868 non-null  bool  \n",
      " 13  description        69733 non-null  object\n",
      " 14  Category_name      71850 non-null  object\n",
      " 15  Country            71868 non-null  object\n",
      "dtypes: bool(2), int64(5), object(9)\n",
      "memory usage: 7.8+ MB\n"
     ]
    }
   ],
   "source": [
    "youtube.info()"
   ]
  },
  {
   "cell_type": "markdown",
   "metadata": {},
   "source": [
    "### Data cleaning"
   ]
  },
  {
   "cell_type": "markdown",
   "metadata": {},
   "source": [
    "The dataset have null values in the columns \"channelId\", \"description\" , and \"category_name\". The channel id has missing values because 2018 datasets (`ba775-team-6a.youtube.JP_youtube_trending_data_past`, `ba775-team-6a.youtube.US_youtube_trending_data_past`) didn't have that information. However, we decided to include this column because we need this unique channel id to retrieve information from the YouTube API. "
   ]
  },
  {
   "cell_type": "code",
   "execution_count": 24,
   "metadata": {},
   "outputs": [],
   "source": [
    "df['description'] = df['description'].fillna(\" \") ##Data imputation for description\n",
    "df['channelId'] = df['channelId'].fillna(\" \") ##Data imputation for channel id"
   ]
  },
  {
   "cell_type": "markdown",
   "metadata": {},
   "source": [
    "We added new columns to our dataset "
   ]
  },
  {
   "cell_type": "code",
   "execution_count": 19,
   "metadata": {},
   "outputs": [],
   "source": [
    "df['publish_year'] = pd.DatetimeIndex(youtube['publishedAt']).year\n",
    "df['publish_time'] = pd.to_datetime(youtube['publishedAt']).dt.time\n",
    "df['publish_datetime'] = pd.to_datetime(youtube['publishedAt'])\n",
    "df['trending_datetime'] = pd.to_datetime(youtube['trending_date'])\n",
    "df['days_to_go_trending'] = youtube['trending_datetime'] - youtube['publish_datetime']"
   ]
  },
  {
   "cell_type": "markdown",
   "metadata": {},
   "source": [
    "### Getting to know our dataset"
   ]
  },
  {
   "cell_type": "code",
   "execution_count": 20,
   "metadata": {},
   "outputs": [
    {
     "data": {
      "text/html": [
       "<div>\n",
       "<style scoped>\n",
       "    .dataframe tbody tr th:only-of-type {\n",
       "        vertical-align: middle;\n",
       "    }\n",
       "\n",
       "    .dataframe tbody tr th {\n",
       "        vertical-align: top;\n",
       "    }\n",
       "\n",
       "    .dataframe thead th {\n",
       "        text-align: right;\n",
       "    }\n",
       "</style>\n",
       "<table border=\"1\" class=\"dataframe\">\n",
       "  <thead>\n",
       "    <tr style=\"text-align: right;\">\n",
       "      <th>Country</th>\n",
       "      <th>Japan</th>\n",
       "      <th>United States</th>\n",
       "    </tr>\n",
       "    <tr>\n",
       "      <th>publish_year</th>\n",
       "      <th></th>\n",
       "      <th></th>\n",
       "    </tr>\n",
       "  </thead>\n",
       "  <tbody>\n",
       "    <tr>\n",
       "      <th>2018</th>\n",
       "      <td>2.537513e+05</td>\n",
       "      <td>2.740231e+06</td>\n",
       "    </tr>\n",
       "    <tr>\n",
       "      <th>2020</th>\n",
       "      <td>1.421849e+06</td>\n",
       "      <td>2.688567e+06</td>\n",
       "    </tr>\n",
       "  </tbody>\n",
       "</table>\n",
       "</div>"
      ],
      "text/plain": [
       "Country              Japan  United States\n",
       "publish_year                             \n",
       "2018          2.537513e+05   2.740231e+06\n",
       "2020          1.421849e+06   2.688567e+06"
      ]
     },
     "execution_count": 20,
     "metadata": {},
     "output_type": "execute_result"
    }
   ],
   "source": [
    "df.pivot_table(values='view_count', index='publish_year', columns='Country', aggfunc='mean')"
   ]
  },
  {
   "cell_type": "code",
   "execution_count": 32,
   "metadata": {},
   "outputs": [],
   "source": [
    "max_view_count = df['view_count'].max() \n",
    "min_view_count = df['view_count'].min()"
   ]
  }
 ],
 "metadata": {
  "kernelspec": {
   "display_name": "Python 3",
   "language": "python",
   "name": "python3"
  },
  "language_info": {
   "codemirror_mode": {
    "name": "ipython",
    "version": 3
   },
   "file_extension": ".py",
   "mimetype": "text/x-python",
   "name": "python",
   "nbconvert_exporter": "python",
   "pygments_lexer": "ipython3",
   "version": "3.8.5"
  }
 },
 "nbformat": 4,
 "nbformat_minor": 4
}
